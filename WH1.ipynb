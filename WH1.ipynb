{
 "cells": [
  {
   "cell_type": "code",
   "execution_count": 2,
   "metadata": {},
   "outputs": [
    {
     "name": "stdout",
     "output_type": "stream",
     "text": [
      "valeur minimale  =  2000\n",
      "valeur maximale  =  3200\n",
      "2002\n",
      "2009\n",
      "2016\n",
      "2023\n",
      "2037\n",
      "2044\n",
      "2051\n",
      "2058\n",
      "2072\n",
      "2079\n",
      "2086\n",
      "2093\n",
      "2107\n",
      "2114\n",
      "2121\n",
      "2128\n",
      "2142\n",
      "2149\n",
      "2156\n",
      "2163\n",
      "2177\n",
      "2184\n",
      "2191\n",
      "2198\n",
      "2212\n",
      "2219\n",
      "2226\n",
      "2233\n",
      "2247\n",
      "2254\n",
      "2261\n",
      "2268\n",
      "2282\n",
      "2289\n",
      "2296\n",
      "2303\n",
      "2317\n",
      "2324\n",
      "2331\n",
      "2338\n",
      "2352\n",
      "2359\n",
      "2366\n",
      "2373\n",
      "2387\n",
      "2394\n",
      "2401\n",
      "2408\n",
      "2422\n",
      "2429\n",
      "2436\n",
      "2443\n",
      "2457\n",
      "2464\n",
      "2471\n",
      "2478\n",
      "2492\n",
      "2499\n",
      "2506\n",
      "2513\n",
      "2527\n",
      "2534\n",
      "2541\n",
      "2548\n",
      "2562\n",
      "2569\n",
      "2576\n",
      "2583\n",
      "2597\n",
      "2604\n",
      "2611\n",
      "2618\n",
      "2632\n",
      "2639\n",
      "2646\n",
      "2653\n",
      "2667\n",
      "2674\n",
      "2681\n",
      "2688\n",
      "2702\n",
      "2709\n",
      "2716\n",
      "2723\n",
      "2737\n",
      "2744\n",
      "2751\n",
      "2758\n",
      "2772\n",
      "2779\n",
      "2786\n",
      "2793\n",
      "2807\n",
      "2814\n",
      "2821\n",
      "2828\n",
      "2842\n",
      "2849\n",
      "2856\n",
      "2863\n",
      "2877\n",
      "2884\n",
      "2891\n",
      "2898\n",
      "2912\n",
      "2919\n",
      "2926\n",
      "2933\n",
      "2947\n",
      "2954\n",
      "2961\n",
      "2968\n",
      "2982\n",
      "2989\n",
      "2996\n",
      "3003\n",
      "3017\n",
      "3024\n",
      "3031\n",
      "3038\n",
      "3052\n",
      "3059\n",
      "3066\n",
      "3073\n",
      "3087\n",
      "3094\n",
      "3101\n",
      "3108\n",
      "3122\n",
      "3129\n",
      "3136\n",
      "3143\n",
      "3157\n",
      "3164\n",
      "3171\n",
      "3178\n",
      "3192\n",
      "3199\n"
     ]
    }
   ],
   "source": [
    "a=int(input(\"valeur minimale  =  \"))\n",
    "b=int(input(\"valeur maximale  =  \"))\n",
    "for i in range(a,b) :\n",
    "    if(i%7 == 0 and i%5!=0) :\n",
    "        print(i)"
   ]
  },
  {
   "cell_type": "code",
   "execution_count": 3,
   "metadata": {},
   "outputs": [
    {
     "name": "stdout",
     "output_type": "stream",
     "text": [
      "introduire la valeur du factoriel à calculer  =  8\n",
      "index =  8 sa factorielle =  40320\n"
     ]
    }
   ],
   "source": [
    "a=int(input(\"introduire la valeur du factoriel à calculer  =  \"))\n",
    "b=1\n",
    "for i in range(1,a+1) :\n",
    "    b *=i\n",
    "print(\"index = \", i, \"sa factorielle = \", b)"
   ]
  },
  {
   "cell_type": "code",
   "execution_count": 4,
   "metadata": {},
   "outputs": [
    {
     "name": "stdout",
     "output_type": "stream",
     "text": [
      "valeur de base du dictionnaire =  5\n",
      "valeur initiale 5 seconde valeur {1: 1, 2: 4, 3: 9, 4: 16, 5: 25}\n"
     ]
    }
   ],
   "source": [
    "a=int(input(\"valeur de base du dictionnaire =  \"))\n",
    "b={i:i*i for i in range (1,a+1)}\n",
    "print(\"valeur initiale\", a, \"seconde valeur\", b)"
   ]
  },
  {
   "cell_type": "code",
   "execution_count": 5,
   "metadata": {},
   "outputs": [
    {
     "name": "stdout",
     "output_type": "stream",
     "text": [
      "votre mot   bonjour\n",
      "position du caractere à éliminer3\n",
      "bon\n",
      "our\n",
      "bonour\n"
     ]
    }
   ],
   "source": [
    "a=str(input(\"votre mot   \"))\n",
    "d=int(input(\"position du caractere à éliminer\"))\n",
    "partie1 = a[:d]\n",
    "partie2 = a[d+1:]\n",
    "print(partie1)\n",
    "print(partie2)\n",
    "a_tronque = partie1 + partie2\n",
    "print(a_tronque)"
   ]
  },
  {
   "cell_type": "code",
   "execution_count": 6,
   "metadata": {},
   "outputs": [
    {
     "name": "stdout",
     "output_type": "stream",
     "text": [
      "[[0 1]\n",
      " [2 3]\n",
      " [4 5]]\n",
      "[[0, 1], [2, 3], [4, 5]]\n"
     ]
    }
   ],
   "source": [
    "import numpy as np\n",
    "a = np.array([[0,1],[2,3], [4,5]])\n",
    "print(a)\n",
    "b = a.tolist()\n",
    "print(b)"
   ]
  },
  {
   "cell_type": "code",
   "execution_count": 7,
   "metadata": {},
   "outputs": [
    {
     "name": "stdout",
     "output_type": "stream",
     "text": [
      "entrer les valeurs D pour lesquelles on calculera les racines carrées. veillez à les séparer par une virgule : 100,150,180\n",
      "Les nombre que vous avez introduit sont ['100', '150', '180']\n",
      "Le résultat du calcul est [18, 22, 24]\n"
     ]
    }
   ],
   "source": [
    "import math\n",
    "c = 50\n",
    "h = 30\n",
    "calcul_total = []\n",
    "d = input(\"entrer les valeurs D pour lesquelles on calculera les racines carrées. veillez à les séparer par une virgule : \")\n",
    "Dsansvirgule = d.split(\",\")\n",
    "print(\"Les nombre que vous avez introduit sont\", Dsansvirgule)\n",
    "for i in Dsansvirgule :\n",
    "    Q = round(math.sqrt(2 * c * int(i) / h))\n",
    "    calcul_total.append(Q)\n",
    "print(\"Le résultat du calcul est\", calcul_total)"
   ]
  },
  {
   "cell_type": "code",
   "execution_count": null,
   "metadata": {},
   "outputs": [],
   "source": []
  }
 ],
 "metadata": {
  "kernelspec": {
   "display_name": "Python 3",
   "language": "python",
   "name": "python3"
  },
  "language_info": {
   "codemirror_mode": {
    "name": "ipython",
    "version": 3
   },
   "file_extension": ".py",
   "mimetype": "text/x-python",
   "name": "python",
   "nbconvert_exporter": "python",
   "pygments_lexer": "ipython3",
   "version": "3.8.3"
  }
 },
 "nbformat": 4,
 "nbformat_minor": 4
}
